{
 "cells": [
  {
   "cell_type": "code",
   "execution_count": 11,
   "metadata": {},
   "outputs": [
    {
     "data": {
      "text/plain": [
       "1"
      ]
     },
     "execution_count": 11,
     "metadata": {},
     "output_type": "execute_result"
    }
   ],
   "source": [
    "#Fibonacci\n",
    "def memoize(f):\n",
    "    memo={}\n",
    "    def helper(x):\n",
    "        if x not in memo:\n",
    "            memo[x]=f(x)\n",
    "        return memo[x]\n",
    "    return helper\n",
    "\n",
    "def fib(n):\n",
    "    if n<2:\n",
    "        return (n)\n",
    "    else:\n",
    "        return(fib(n-1)+fib(n-2))\n",
    "fib=memoize(fib)\n",
    "fib(2)\n"
   ]
  },
  {
   "cell_type": "code",
   "execution_count": 2,
   "metadata": {},
   "outputs": [
    {
     "data": {
      "text/plain": [
       "True"
      ]
     },
     "execution_count": 2,
     "metadata": {},
     "output_type": "execute_result"
    }
   ],
   "source": [
    "#Palindrome\n",
    "def pali(s):\n",
    "    return s[:]==s[::-1]\n",
    "\n",
    "pali(\"abba\")\n",
    "        "
   ]
  },
  {
   "cell_type": "code",
   "execution_count": 12,
   "metadata": {},
   "outputs": [
    {
     "data": {
      "text/plain": [
       "-5"
      ]
     },
     "execution_count": 12,
     "metadata": {},
     "output_type": "execute_result"
    }
   ],
   "source": [
    "#reverse an integer\n",
    "def ri(n):\n",
    "    if(n<0):\n",
    "        s=str(abs(n))\n",
    "        return int(s[::-1])*-1\n",
    "    else:\n",
    "        s=str(abs(n))\n",
    "        return int(s[::-1])\n",
    "ri(-50)"
   ]
  },
  {
   "cell_type": "code",
   "execution_count": 147,
   "metadata": {},
   "outputs": [
    {
     "data": {
      "text/plain": [
       "'c'"
      ]
     },
     "execution_count": 147,
     "metadata": {},
     "output_type": "execute_result"
    }
   ],
   "source": [
    "#Max Char\n",
    "def mc(s):\n",
    "    d={}\n",
    "    for c in s:\n",
    "        if c in d:\n",
    "            d[c]+=1\n",
    "        else:\n",
    "            d[c]=1\n",
    "    max=0\n",
    "    c=\"\"\n",
    "    for i in d.keys():\n",
    "        if d[i]>max:\n",
    "            max=d[i]\n",
    "            c=i\n",
    "    return c\n",
    "            \n",
    "mc(\"aaabbbbbbccccccc\")\n",
    "        "
   ]
  },
  {
   "cell_type": "code",
   "execution_count": 34,
   "metadata": {},
   "outputs": [
    {
     "name": "stdout",
     "output_type": "stream",
     "text": [
      "1\n",
      "2\n",
      "Fizz\n",
      "4\n",
      "Buzz\n",
      "Fizz\n",
      "7\n",
      "8\n",
      "Fizz\n",
      "Buzz\n",
      "11\n",
      "Fizz\n",
      "13\n",
      "14\n",
      "FizzBuzz\n"
     ]
    }
   ],
   "source": [
    "#FizzBuzz\n",
    "def fb(n):\n",
    "    for i in range(1,n):\n",
    "        if i%3==0 and i%5==0:\n",
    "            print (\"FizzBuzz\")\n",
    "        elif i%3==0:\n",
    "            print (\"Fizz\")\n",
    "        elif i%5==0:\n",
    "            print (\"Buzz\")\n",
    "        else:\n",
    "            print (i)\n",
    "fb(16)\n",
    "        "
   ]
  },
  {
   "cell_type": "code",
   "execution_count": 1,
   "metadata": {},
   "outputs": [
    {
     "data": {
      "text/plain": [
       "[[1, 2, 3, 4], [5, 6]]"
      ]
     },
     "execution_count": 1,
     "metadata": {},
     "output_type": "execute_result"
    }
   ],
   "source": [
    "#Chunk Array\n",
    "def ca(ls,size):\n",
    "    l=[]\n",
    "    ll=[]\n",
    "    for i in range(len(ls)):\n",
    "        l.append(ls[i])\n",
    "        if len(l)==size or i==len(ls)-1:\n",
    "            ll.append(l)\n",
    "            l=[]\n",
    "    return(ll)\n",
    "ca([1,2,3,4,5,6],4)\n",
    "    "
   ]
  },
  {
   "cell_type": "code",
   "execution_count": 2,
   "metadata": {},
   "outputs": [
    {
     "data": {
      "text/plain": [
       "[[1, 2, 3], [4, 5, 6], [7]]"
      ]
     },
     "execution_count": 2,
     "metadata": {},
     "output_type": "execute_result"
    }
   ],
   "source": [
    "#Chunk Array\n",
    "def ca1(ls,size):\n",
    "    ll=[]\n",
    "    for i in range(0,len(ls),size):\n",
    "        ll.append(ls[i:i+size])\n",
    "    return (ll)\n",
    "ca1([1,2,3,4,5,6,7],3)\n",
    "        \n",
    "        "
   ]
  },
  {
   "cell_type": "code",
   "execution_count": 150,
   "metadata": {},
   "outputs": [
    {
     "name": "stdout",
     "output_type": "stream",
     "text": [
      "A Bad Dog\n"
     ]
    }
   ],
   "source": [
    "#Capitalize first letter of every word\n",
    "s=\"a bad dog\"\n",
    "a=\"\"\n",
    "for i in range(len(s)):\n",
    "    if i==0 or s[i-1]==\" \":\n",
    "        a+=s[i].upper()\n",
    "    else:\n",
    "        a+=s[i]\n",
    "    \n",
    "print(a)\n"
   ]
  },
  {
   "cell_type": "code",
   "execution_count": 64,
   "metadata": {},
   "outputs": [
    {
     "name": "stdout",
     "output_type": "stream",
     "text": [
      "#\n",
      "##\n",
      "###\n",
      "####\n",
      "#####\n"
     ]
    }
   ],
   "source": [
    "#Steps\n",
    "def steps(n):\n",
    "    for i in range(1,n+1):\n",
    "        print(\"#\"*i)\n",
    "steps(5)"
   ]
  },
  {
   "cell_type": "code",
   "execution_count": 5,
   "metadata": {},
   "outputs": [
    {
     "name": "stdout",
     "output_type": "stream",
     "text": [
      "     #     \n",
      "    ###    \n",
      "   #####   \n",
      "  #######  \n",
      " ######### \n",
      "###########\n"
     ]
    }
   ],
   "source": [
    "#Pyramid\n",
    "def pyr(n):\n",
    "    for i in range(1,n+1,2):\n",
    "        print(\" \"*int((n-i)/2)+\"#\"*i+\" \"*int((n-i)/2))\n",
    "pyr(11)"
   ]
  },
  {
   "cell_type": "code",
   "execution_count": 15,
   "metadata": {},
   "outputs": [
    {
     "data": {
      "text/plain": [
       "[[1, 2, 3, 4, 5],\n",
       " [16, 17, 18, 19, 6],\n",
       " [15, 24, 25, 20, 7],\n",
       " [14, 23, 22, 21, 8],\n",
       " [13, 12, 11, 10, 9]]"
      ]
     },
     "execution_count": 15,
     "metadata": {},
     "output_type": "execute_result"
    }
   ],
   "source": [
    "#Spiral Matrix\n",
    "def sm(n):\n",
    "    j=0\n",
    "    l=[]\n",
    "    ll=[]\n",
    "    for i in range(n):\n",
    "        l=[]\n",
    "        for j in range(n):\n",
    "            l.append(0)\n",
    "        ll.append(l)\n",
    "    \n",
    "    sc=0\n",
    "    ec=n-1\n",
    "    sr=0\n",
    "    er=n-1\n",
    "    count=1\n",
    "    while(sc<=ec and sr<=er):\n",
    "        \n",
    "        #First row\n",
    "        for i in range(sc,ec+1):\n",
    "            ll[sr][i]=count\n",
    "            # arr[]=ll[sr][i]\n",
    "            count+=1\n",
    "        sr+=1\n",
    "\n",
    "        #Last column\n",
    "        for i in range(sr,er+1):\n",
    "            ll[i][ec]=count\n",
    "            count+=1\n",
    "        ec-=1\n",
    "\n",
    "        #Last row\n",
    "        for i in range(ec,sc-1,-1):\n",
    "            ll[er][i]=count\n",
    "            count+=1\n",
    "        er-=1\n",
    "\n",
    "        #First Column\n",
    "        for i in range(er,sr-1,-1):\n",
    "            ll[i][sc]=count\n",
    "            count+=1\n",
    "        sc+=1\n",
    "        \n",
    "        \n",
    "    \n",
    "    return (ll)\n",
    "        \n",
    "sm(5)\n"
   ]
  },
  {
   "cell_type": "code",
   "execution_count": 9,
   "metadata": {},
   "outputs": [
    {
     "name": "stdout",
     "output_type": "stream",
     "text": [
      "[11, 10]\n"
     ]
    },
    {
     "data": {
      "text/plain": [
       "10"
      ]
     },
     "execution_count": 9,
     "metadata": {},
     "output_type": "execute_result"
    }
   ],
   "source": [
    "#Queue\n",
    "class queue:\n",
    "    def __init__(self):\n",
    "        self.data=[]\n",
    "        \n",
    "    def add(self,record):\n",
    "        self.data.insert(0,record)\n",
    "        \n",
    "    def remove(self):\n",
    "        return self.data.pop()\n",
    "    def disp(self):\n",
    "        print(self.data)\n",
    "    \n",
    "q=queue()\n",
    "q.add(10)\n",
    "q.add(11)\n",
    "q.disp()\n",
    "q.remove()\n"
   ]
  },
  {
   "cell_type": "code",
   "execution_count": 13,
   "metadata": {},
   "outputs": [
    {
     "name": "stdout",
     "output_type": "stream",
     "text": [
      "5\n",
      "{'data': [10, 10, 5]}\n"
     ]
    },
    {
     "data": {
      "text/plain": [
       "'Empty Queue'"
      ]
     },
     "execution_count": 13,
     "metadata": {},
     "output_type": "execute_result"
    }
   ],
   "source": [
    "#Stack\n",
    "class stack:\n",
    "    def __init__(self):\n",
    "        self.data=[]\n",
    "    \n",
    "    def push(self, value):\n",
    "        self.data.insert(0,value)\n",
    "        \n",
    "    def pop(self):\n",
    "        return self.data.pop(0)\n",
    "        \n",
    "    def peek(self):\n",
    "        if self.data!=[]:\n",
    "            return self.data[0]\n",
    "        else:\n",
    "            return (\"Empty Queue\")\n",
    "\n",
    "s=stack()\n",
    "s.push(5)\n",
    "\n",
    "print(s.peek())\n",
    "s.push(10)\n",
    "s.push(10)\n",
    "print(vars(s))\n",
    "s.pop()\n",
    "s.pop()\n",
    "s.pop()\n",
    "s.peek()"
   ]
  },
  {
   "cell_type": "code",
   "execution_count": 15,
   "metadata": {},
   "outputs": [
    {
     "name": "stdout",
     "output_type": "stream",
     "text": [
      "{'data': ['[']}\n",
      "{'data': []}\n",
      "{'data': ['(']}\n",
      "{'data': []}\n"
     ]
    },
    {
     "data": {
      "text/plain": [
       "False"
      ]
     },
     "execution_count": 15,
     "metadata": {},
     "output_type": "execute_result"
    }
   ],
   "source": [
    "#Balance Check\n",
    "def balance_check(s):\n",
    "    dic={'(':')','[':']','{':'}'}\n",
    "    a = stack()\n",
    "    for i in range(len(s)):\n",
    "        if (s[i] == '(' or s[i] == '{' or s[i] == '[' ):\n",
    "            a.push(s[i])\n",
    "            \n",
    "        elif (a.peek()!=\"Empty Queue\" and s[i]==dic[a.peek()]):\n",
    "            a.pop()\n",
    "            print(vars(a))\n",
    "            \n",
    "        else:\n",
    "            a.push(s[i])\n",
    "    return a.peek()==\"Empty Queue\"\n",
    "balance_check(\"[()]([]))\")"
   ]
  },
  {
   "cell_type": "code",
   "execution_count": 107,
   "metadata": {},
   "outputs": [
    {
     "data": {
      "text/plain": [
       "'Empty Queue'"
      ]
     },
     "execution_count": 107,
     "metadata": {},
     "output_type": "execute_result"
    }
   ],
   "source": [
    "#Queue using 2 stacks\n",
    "\n",
    "class Queue(stack):\n",
    "    def __init__(self):\n",
    "        self.s1=stack()\n",
    "        self.s2=stack()\n",
    "        \n",
    "    def push(self,value):\n",
    "        self.s1.push(value)\n",
    "        \n",
    "    def remove(self):\n",
    "        while(self.s1.peek()!=\"Empty Queue\"):\n",
    "            self.s2.push(self.s1.pop())\n",
    "        return self.s2.pop()\n",
    "        while(self.s2.peek()!=\"Empty Queue\"):\n",
    "            self.s1.push(self.s2.pop())\n",
    "            \n",
    "    def peek(self):\n",
    "        while(self.s1.peek()!=\"Empty Queue\"):\n",
    "            self.s2.push(self.s1.pop())\n",
    "        return self.s2.peek()\n",
    "        while(self.s2.peek()!=\"Empty Queue\"):\n",
    "            self.s1.push(self.s2.pop())\n",
    "            \n",
    "q3=Queue()\n",
    "q3.push(4)\n",
    "q3.push(5)\n",
    "q3.push(6)\n",
    "q3.peek()\n",
    "q3.remove()\n",
    "q3.remove()\n",
    "q3.remove()\n",
    "\n",
    "q3.peek()\n",
    "\n",
    "        \n",
    "        "
   ]
  },
  {
   "cell_type": "code",
   "execution_count": 18,
   "metadata": {},
   "outputs": [],
   "source": [
    "#Linked List\n",
    "class Node():\n",
    "    def __init__(self,data,next= None):\n",
    "        self.data=data\n",
    "        self.next=next\n",
    "class LinkedList():\n",
    "    def __init__(self):\n",
    "        self.head=None\n",
    "    def insertnode(self,data):\n",
    "        self.head=Node(data,self.head)\n",
    "    def size(self):\n",
    "        c=0\n",
    "        Node=self.head\n",
    "        while(Node):\n",
    "            c+=1\n",
    "            Node=Node.next\n",
    "        return c\n",
    "    def getfirst(self):\n",
    "        return vars(self.head)\n",
    "    def getlast(self):\n",
    "        if (self.head==None):\n",
    "            return (\"Empty List\")\n",
    "        node=self.head\n",
    "        while (node):\n",
    "            if (node.next==None):\n",
    "                return node\n",
    "            node=node.next\n",
    "    def clear(self):\n",
    "        self.head=None\n",
    "    def removefirst(self):\n",
    "        if (self.head==None):\n",
    "            return\n",
    "        self.head=self.head.next\n",
    "        return (vars(self.head))\n",
    "    def removelast(self):\n",
    "        if self.head==None:\n",
    "            return\n",
    "        if self.head.next==None:\n",
    "            self.head=None\n",
    "            return\n",
    "        previous=self.head\n",
    "        node=self.head.next\n",
    "        while (node.next):\n",
    "            previous=node\n",
    "            node=node.next\n",
    "        previous.next=None\n",
    "        return vars(previous)\n",
    "    def insertlast(self,data):\n",
    "        last=self.getlast()\n",
    "        if last:\n",
    "            last.next=Node(data)\n",
    "        else:\n",
    "            self.head=Node(data)\n",
    "    def getat(self,index):            \n",
    "        count=0\n",
    "        node=self.head\n",
    "        while(node):\n",
    "            if count==index:\n",
    "                return node\n",
    "            count+=1\n",
    "            node=node.next\n",
    "        return None\n",
    "    def removeat(self,index):\n",
    "        if self.head==None:\n",
    "            return\n",
    "        if index==0:\n",
    "            self.head=self.head.next\n",
    "            return\n",
    "        previous=self.getat(index-1)\n",
    "        if(previous==None or previous.next==None):\n",
    "            return\n",
    "        previous.next=previous.next.next\n",
    "    def insertat(self, data, index):\n",
    "        if self.head==None:\n",
    "            self.head=Node(data)\n",
    "            return\n",
    "        if index==0:\n",
    "            self.head=Node(data,self.head)\n",
    "            return\n",
    "        previous=self.getat(index-1) or self.getlast()\n",
    "        previous.next=Node(data,previous.next)\n",
    "        \n",
    "            \n",
    "\n",
    "n=Node(5)\n",
    "l=LinkedList()\n",
    "l.insertnode(5)\n",
    "l.insertnode(6)\n",
    "l.insertnode(7)\n",
    "l.insertnode(4)\n",
    "l.insertnode(8)\n",
    "l.insertnode(9)\n",
    "l.insertnode(9)"
   ]
  },
  {
   "cell_type": "code",
   "execution_count": 19,
   "metadata": {},
   "outputs": [
    {
     "data": {
      "text/plain": [
       "{'data': 4, 'next': <__main__.Node at 0x209ef41f240>}"
      ]
     },
     "execution_count": 19,
     "metadata": {},
     "output_type": "execute_result"
    }
   ],
   "source": [
    "#Midpoint of a linkedlist\n",
    "def midpoint(list):\n",
    "    slow=list.head\n",
    "    fast=list.head\n",
    "    while fast.next and fast.next.next:\n",
    "        slow=slow.next\n",
    "        fast=fast.next.next\n",
    "    return vars(slow)\n",
    "midpoint(l)"
   ]
  },
  {
   "cell_type": "code",
   "execution_count": 94,
   "metadata": {},
   "outputs": [
    {
     "data": {
      "text/plain": [
       "False"
      ]
     },
     "execution_count": 94,
     "metadata": {},
     "output_type": "execute_result"
    }
   ],
   "source": [
    "#Check if circular list or not\n",
    "def circular(list):\n",
    "    slow=list.head\n",
    "    fast=list.head\n",
    "    while fast.next and fast.next.next:\n",
    "        slow=slow.next\n",
    "        fast=fast.next.next\n",
    "        if slow==fast:\n",
    "            return True\n",
    "    return False\n",
    "circular(l)"
   ]
  },
  {
   "cell_type": "code",
   "execution_count": 96,
   "metadata": {},
   "outputs": [
    {
     "data": {
      "text/plain": [
       "{'data': 6, 'next': <__main__.Node at 0x20be5eda710>}"
      ]
     },
     "execution_count": 96,
     "metadata": {},
     "output_type": "execute_result"
    }
   ],
   "source": [
    "def fromlast(list,n):\n",
    "    slow=list.head\n",
    "    fast=list.head\n",
    "    for i in range(n):\n",
    "        fast=fast.next\n",
    "    while fast.next:\n",
    "        fast=fast.next\n",
    "        slow=slow.next\n",
    "    return vars(slow)\n",
    "fromlast(l,1)"
   ]
  },
  {
   "cell_type": "code",
   "execution_count": 24,
   "metadata": {},
   "outputs": [
    {
     "name": "stdout",
     "output_type": "stream",
     "text": [
      "{'data': 23, 'children': [<__main__.Node object at 0x00000209EF44F4E0>, <__main__.Node object at 0x00000209EF44FB38>, <__main__.Node object at 0x00000209EF44FBE0>]}\n",
      "{'data': 34, 'children': [<__main__.Node object at 0x00000209EF44FC50>]}\n",
      "{'data': 99, 'children': []}\n",
      "{'data': 45, 'children': []}\n",
      "{'data': 55, 'children': []}\n"
     ]
    }
   ],
   "source": [
    "#Tree\n",
    "class Node():\n",
    "    def __init__ (self,data):\n",
    "        self.data=data\n",
    "        self.children=[]\n",
    "    def add(self,data):\n",
    "        self.children.append(Node(data))\n",
    "        return self.children\n",
    "    def remove(self,data):\n",
    "        self.children=list(filter(lambda x:x.data!=data, self.children))\n",
    "        return self.children\n",
    "\n",
    "class Tree():\n",
    "    def __init__(self,root=None):\n",
    "        self.root=root\n",
    "    def traverseBF(self,fn):\n",
    "        arr=[self.root]\n",
    "        while len(arr):\n",
    "            node=arr.pop(0)\n",
    "            for i in node.children:\n",
    "                arr.append(i)\n",
    "            fn(node)\n",
    "    def traverseDF(self,fn):\n",
    "        arr=[self.root]\n",
    "        while len(arr):\n",
    "            node=arr.pop(0)\n",
    "            for i in range(len(node.children)):\n",
    "                arr.insert(i,node.children[i])\n",
    "            fn(node)\n",
    "def fn(node):\n",
    "    print(vars(node))\n",
    "        \n",
    "        \n",
    "\n",
    "t=Node(23)\n",
    "t.add(34)\n",
    "t.add(45)\n",
    "t.add(55)\n",
    "q=t.children[0]\n",
    "q.add(99)\n",
    "tr=Tree(t)\n",
    "tr.traverseDF(fn)\n",
    "\n",
    "        "
   ]
  },
  {
   "cell_type": "code",
   "execution_count": 25,
   "metadata": {},
   "outputs": [
    {
     "data": {
      "text/plain": [
       "[1, 3, 1]"
      ]
     },
     "execution_count": 25,
     "metadata": {},
     "output_type": "execute_result"
    }
   ],
   "source": [
    "#number of nodes in each level\n",
    "def levelwidth(root):\n",
    "    arr=[root,\"s\"]\n",
    "    count=[0]\n",
    "    while len(arr)>1:\n",
    "        node=arr.pop(0)\n",
    "        if node==\"s\":\n",
    "            count.append(0)\n",
    "            arr.append(\"s\")\n",
    "        else:\n",
    "            for i in node.children:\n",
    "                arr.append(i)\n",
    "            count[len(count)-1]+=1\n",
    "    return count\n",
    "                \n",
    "levelwidth(t)\n",
    " "
   ]
  },
  {
   "cell_type": "code",
   "execution_count": 26,
   "metadata": {},
   "outputs": [
    {
     "name": "stdout",
     "output_type": "stream",
     "text": [
      "{'data': 5, 'left': None, 'right': <__main__.Node object at 0x00000209EF4176A0>}\n",
      "{'data': 6, 'left': None, 'right': <__main__.Node object at 0x00000209EF417B70>}\n"
     ]
    }
   ],
   "source": [
    "#Insertion and search in binary search tree\n",
    "class Node():\n",
    "    def __init__(self,data):\n",
    "        self.data=data\n",
    "        self.left=None\n",
    "        self.right=None\n",
    "    def insert(self,data):\n",
    "        if data<self.data and self.left:\n",
    "            self.left.insert(data)\n",
    "        elif data<self.data:\n",
    "            self.left=Node(data)\n",
    "        elif data>self.data and self.right:\n",
    "            self.right.insert(data)\n",
    "        elif data>self.data:\n",
    "            self.right=Node(data)\n",
    "    def search(self,data):\n",
    "        if (self.data==data):\n",
    "            return self\n",
    "        if (self.data<data and self.right):\n",
    "            return self.right.search(data)\n",
    "        elif (self.data>data and self.left):\n",
    "            return self.left.search(data)\n",
    "        return None\n",
    "    \n",
    "            \n",
    "a=Node(5)\n",
    "a.insert(6)\n",
    "a.insert(7)\n",
    "# a.right.insert(1)\n",
    "print(vars(a))\n",
    "print(vars(a.right))\n",
    "\n",
    "\n",
    "            \n",
    "        "
   ]
  },
  {
   "cell_type": "code",
   "execution_count": 27,
   "metadata": {},
   "outputs": [
    {
     "data": {
      "text/plain": [
       "True"
      ]
     },
     "execution_count": 27,
     "metadata": {},
     "output_type": "execute_result"
    }
   ],
   "source": [
    "# Binary Tree Validation\n",
    "def validate(node,min=None,max=None):\n",
    "    if (max!= None and node.data>max):\n",
    "        return False\n",
    "    if (min!= None and node.data<min):\n",
    "        return False\n",
    "    if (node.left and validate(node.left,min,node.data)==False):\n",
    "        return False\n",
    "    if (node.right and validate(node.right,node.data,max)==False):\n",
    "        return False\n",
    "    return True\n",
    "validate(a)"
   ]
  },
  {
   "cell_type": "code",
   "execution_count": 180,
   "metadata": {},
   "outputs": [
    {
     "data": {
      "text/plain": [
       "[1, 3, 4, 7, 43]"
      ]
     },
     "execution_count": 180,
     "metadata": {},
     "output_type": "execute_result"
    }
   ],
   "source": [
    "#Bubblesort\n",
    "def bbsort(list):\n",
    "    for i in range(1,len(list)):\n",
    "        for j in range(len(list)-i):\n",
    "            if list[j]>list[j+1]:\n",
    "                a=list[j]\n",
    "                list[j]=list[j+1]\n",
    "                list[j+1]=a\n",
    "    return list\n",
    "bbsort([1,43,4,3,7])"
   ]
  },
  {
   "cell_type": "code",
   "execution_count": 186,
   "metadata": {},
   "outputs": [
    {
     "data": {
      "text/plain": [
       "[1, 3, 4, 7, 43]"
      ]
     },
     "execution_count": 186,
     "metadata": {},
     "output_type": "execute_result"
    }
   ],
   "source": [
    "#Selection sort\n",
    "def ssort(list):\n",
    "    for i in range(len(list)):\n",
    "        index=i\n",
    "        for j in range(i+1,len(list)):\n",
    "            if list[j]<list[index]:\n",
    "                index=j\n",
    "        if index!=i:\n",
    "            a=list[index]\n",
    "            list[index]=list[i]\n",
    "            list[i]=a\n",
    "    return list\n",
    "ssort([1,43,4,3,7])\n",
    "            "
   ]
  },
  {
   "cell_type": "code",
   "execution_count": 28,
   "metadata": {},
   "outputs": [
    {
     "name": "stdout",
     "output_type": "stream",
     "text": [
      "left=[1, 5]\n",
      "right=[2, 7, 9]\n",
      "left=[1]\n",
      "right=[5]\n",
      "res=[1, 5]\n",
      "left=[2]\n",
      "right=[7, 9]\n",
      "left=[7]\n",
      "right=[9]\n",
      "res=[7, 9]\n",
      "res=[2, 7, 9]\n",
      "res=[1, 2, 5, 7, 9]\n"
     ]
    },
    {
     "data": {
      "text/plain": [
       "[1, 2, 5, 7, 9]"
      ]
     },
     "execution_count": 28,
     "metadata": {},
     "output_type": "execute_result"
    }
   ],
   "source": [
    "#Merge Sort\n",
    "import math\n",
    "def mergesort(list):\n",
    "    if (len(list)==1):\n",
    "        return list\n",
    "    midpoint=math.floor(len(list)/2)\n",
    "    left=list[0:midpoint]\n",
    "    right=list[midpoint:]\n",
    "    print(f\"left={left}\")\n",
    "    print(f\"right={right}\")\n",
    "    return merge(mergesort(left),mergesort(right))\n",
    "\n",
    "#Merge two sorted arrays\n",
    "def merge(left, right):\n",
    "    res=[]\n",
    "    while(len(left)>0 and len(right)>0):\n",
    "        if left[0]>right[0]:\n",
    "            res.append(right.pop(0))\n",
    "        else:\n",
    "            res.append(left.pop(0))\n",
    "    print (f\"res={res+left+right}\")\n",
    "    return(res+left+right)\n",
    "\n",
    "mergesort([1,5,2,7,9])\n",
    "\n"
   ]
  },
  {
   "cell_type": "code",
   "execution_count": null,
   "metadata": {},
   "outputs": [],
   "source": []
  }
 ],
 "metadata": {
  "kernelspec": {
   "display_name": "Python 3",
   "language": "python",
   "name": "python3"
  },
  "language_info": {
   "codemirror_mode": {
    "name": "ipython",
    "version": 3
   },
   "file_extension": ".py",
   "mimetype": "text/x-python",
   "name": "python",
   "nbconvert_exporter": "python",
   "pygments_lexer": "ipython3",
   "version": "3.7.1"
  }
 },
 "nbformat": 4,
 "nbformat_minor": 2
}
